{
 "cells": [
  {
   "cell_type": "code",
   "execution_count": 2,
   "metadata": {},
   "outputs": [],
   "source": [
    "import pandas as pd\n",
    "import numpy as np"
   ]
  },
  {
   "source": [
    "df = pd.read_csv('Microdados_Educação_Superior_2019/dados/SUP_ALUNO_2019.CSV', iterator=True, chunksize=100000)"
   ],
   "cell_type": "code",
   "metadata": {},
   "execution_count": 95,
   "outputs": []
  },
  {
   "cell_type": "code",
   "execution_count": 4,
   "metadata": {
    "tags": [
     "outputPrepend"
    ]
   },
   "outputs": [
    {
     "output_type": "stream",
     "name": "stdout",
     "text": [
      "                                                                                                                                                                                                                                                                                                                                                                                                                                                                                                                                                                                                                                                                                                                                                                                                                                                                                                                                                                                                                                                                                                                                                                                                                                                                                                                                                                                                                                                                                                                                                                                                                                                                                                                                                                                                                                                                                                                                                                                                                     \n",
      "12300003  2019|19578|2|3|5001279||1|3|1|1|0725P02|9222AB...                                                                                                                                                                                                                                                                                                                                                                                                                                                                                                                                                                                                                                                                                                                                                                                                                                                                                                                                                                                                                                                                                                                                                                                                                                                                                                                                                                                                                                                                                                                                                                                                                                                                                                                                                                                                                                                                                                                                                                                                                                                                                                                                                                                                                                                                                  \n",
      "12300004  2019|19578|2|3|5001279||1|3|1|1|0725P02|ED32EF...                                                                                                                                                                                                                                                                                                                                                                                                                                                                                                                                                                                                                                                                                                                                                                                                                                                                                                                                                                                                                                                                                                                                                                                                                                                                                                                                                                                                                                                                                                                                                                                                                                                                                                                                                                                                                                                                                                                                                                                                                                                                                                                                                                                                                                                                                  \n",
      "...                                                     ...                                                                                                                                                                                                                                                                                                                                                                                                                                                                                                                                                                                                                                                                                                                                                                                                                                                                                                                                                                                                                                                                                                                                                                                                                                                                                                                                                                                                                                                                                                                                                                                                                                                                                                                                                                                                                                                                                                                                                                                                                                                                                                                                                                                                                                                                                  \n",
      "12350827  2019|24672|2|3|1496238||3|3|1|1|0725P02|1E16F5...                                                                                                                                                                                                                                                                                                                                                                                                                                                                                                                                                                                                                                                                                                                                                                                                                                                                                                                                                                                                                                                                                                                                                                                                                                                                                                                                                                                                                                                                                                                                                                                                                                                                                                                                                                                                                                                                                                                                                                                                                                                                                                                                                                                                                                                                                  \n",
      "12350828  2019|24672|2|3|1496238||3|3|1|1|0725P02|4E9A80...                                                                                                                                                                                                                                                                                                                                                                                                                                                                                                                                                                                                                                                                                                                                                                                                                                                                                                                                                                                                                                                                                                                                                                                                                                                                                                                                                                                                                                                                                                                                                                                                                                                                                                                                                                                                                                                                                                                                                                                                                                                                                                                                                                                                                                                                                  \n",
      "12350829  2019|24672|2|3|1496238||3|3|1|1|0725P02|9FD36B...                                                                                                                                                                                                                                                                                                                                                                                                                                                                                                                                                                                                                                                                                                                                                                                                                                                                                                                                                                                                                                                                                                                                                                                                                                                                                                                                                                                                                                                                                                                                                                                                                                                                                                                                                                                                                                                                                                                                                                                                                                                                                                                                                                                                                                                                                  \n",
      "12350830  2019|24672|2|3|1496238||3|3|1|1|0725P02|D2BFEA...                                                                                                                                                                                                                                                                                                                                                                                                                                                                                                                                                                                                                                                                                                                                                                                                                                                                                                                                                                                                                                                                                                                                                                                                                                                                                                                                                                                                                                                                                                                                                                                                                                                                                                                                                                                                                                                                                                                                                                                                                                                                                                                                                                                                                                                                                  \n",
      "12350831  2019|24672|2|3|1496238||3|3|1|1|0725P02|F6175B...                                                                                                                                                                                                                                                                                                                                                                                                                                                                                                                                                                                                                                                                                                                                                                                                                                                                                                                                                                                                                                                                                                                                                                                                                                                                                                                                                                                                                                                                                                                                                                                                                                                                                                                                                                                                                                                                                                                                                                                                                                                                                                                                                                                                                                                                                  \n",
      "\n",
      "[50832 rows x 1 columns]\n"
     ]
    }
   ],
   "source": [
    "for chunk in df:\n",
    "    print(chunk)"
   ]
  },
  {
   "cell_type": "code",
   "execution_count": 83,
   "metadata": {},
   "outputs": [
    {
     "output_type": "execute_result",
     "data": {
      "text/plain": [
       "105"
      ]
     },
     "metadata": {},
     "execution_count": 83
    }
   ],
   "source": [
    "columns = ['NU_ANO_CENSO',\n",
    " 'CO_IES',\n",
    " 'TP_CATEGORIA_ADMINISTRATIVA',\n",
    " 'TP_ORGANIZACAO_ACADEMICA',\n",
    " 'CO_CURSO',\n",
    " 'CO_CURSO_POLO',\n",
    " 'TP_TURNO',\n",
    " 'TP_GRAU_ACADEMICO',\n",
    " 'TP_MODALIDADE_ENSINO',\n",
    " 'TP_NIVEL_ACADEMICO',\n",
    " 'CO_CINE_ROTULO',\n",
    " 'ID_ALUNO',\n",
    " 'CO_ALUNO_CURSO',\n",
    " 'CO_ALUNO_CURSO_ORIGEM',\n",
    " 'TP_COR_RACA',\n",
    " 'TP_SEXO',\n",
    " 'NU_ANO_NASCIMENTO',\n",
    " 'NU_MES_NASCIMENTO',\n",
    " 'NU_DIA_NASCIMENTO',\n",
    " 'NU_IDADE',\n",
    " 'TP_NACIONALIDADE',\n",
    " 'CO_PAIS_ORIGEM',\n",
    " 'CO_UF_NASCIMENTO',\n",
    " 'CO_MUNICIPIO_NASCIMENTO',\n",
    " 'IN_DEFICIENCIA',\n",
    " 'IN_DEFICIENCIA_AUDITIVA',\n",
    " 'IN_DEFICIENCIA_FISICA',\n",
    " 'IN_DEFICIENCIA_INTELECTUAL',\n",
    " 'IN_DEFICIENCIA_MULTIPLA',\n",
    " 'IN_DEFICIENCIA_SURDEZ',\n",
    " 'IN_DEFICIENCIA_SURDOCEGUEIRA',\n",
    " 'IN_DEFICIENCIA_BAIXA_VISAO',\n",
    " 'IN_DEFICIENCIA_CEGUEIRA',\n",
    " 'IN_DEFICIENCIA_SUPERDOTACAO',\n",
    " 'IN_TGD_AUTISMO',\n",
    " 'IN_TGD_SINDROME_ASPERGER',\n",
    " 'IN_TGD_SINDROME_RETT',\n",
    " 'IN_TGD_TRANSTOR_DESINTEGRATIVO',\n",
    " 'TP_SITUACAO',\n",
    " 'QT_CARGA_HORARIA_TOTAL',\n",
    " 'QT_CARGA_HORARIA_INTEG',\n",
    " 'DT_INGRESSO_CURSO',\n",
    " 'IN_INGRESSO_VESTIBULAR',\n",
    " 'IN_INGRESSO_ENEM',\n",
    " 'IN_INGRESSO_AVALIACAO_SERIADA',\n",
    " 'IN_INGRESSO_SELECAO_SIMPLIFICA',\n",
    " 'IN_INGRESSO_OUTRO_TIPO_SELECAO',\n",
    " 'IN_INGRESSO_VAGA_REMANESC',\n",
    " 'IN_INGRESSO_VAGA_PROG_ESPECIAL',\n",
    " 'IN_INGRESSO_TRANSF_EXOFFICIO',\n",
    " 'IN_INGRESSO_DECISAO_JUDICIAL',\n",
    " 'IN_INGRESSO_CONVENIO_PECG',\n",
    " 'IN_INGRESSO_EGRESSO',\n",
    " 'IN_INGRESSO_OUTRA_FORMA',\n",
    " 'IN_RESERVA_VAGAS',\n",
    " 'IN_RESERVA_ETNICO',\n",
    " 'IN_RESERVA_DEFICIENCIA',\n",
    " 'IN_RESERVA_ENSINO_PUBLICO',\n",
    " 'IN_RESERVA_RENDA_FAMILIAR',\n",
    " 'IN_RESERVA_OUTRA',\n",
    " 'IN_FINANCIAMENTO_ESTUDANTIL',\n",
    " 'IN_FIN_REEMB_FIES',\n",
    " 'IN_FIN_REEMB_ESTADUAL',\n",
    " 'IN_FIN_REEMB_MUNICIPAL',\n",
    " 'IN_FIN_REEMB_PROG_IES',\n",
    " 'IN_FIN_REEMB_ENT_EXTERNA',\n",
    " 'IN_FIN_REEMB_OUTRA',\n",
    " 'IN_FIN_NAOREEMB_PROUNI_INTEGR',\n",
    " 'IN_FIN_NAOREEMB_PROUNI_PARCIAL',\n",
    " 'IN_FIN_NAOREEMB_ESTADUAL',\n",
    " 'IN_FIN_NAOREEMB_MUNICIPAL',\n",
    " 'IN_FIN_NAOREEMB_PROG_IES',\n",
    " 'IN_FIN_NAOREEMB_ENT_EXTERNA',\n",
    " 'IN_FIN_NAOREEMB_OUTRA',\n",
    " 'IN_APOIO_SOCIAL',\n",
    " 'IN_APOIO_ALIMENTACAO',\n",
    " 'IN_APOIO_BOLSA_PERMANENCIA',\n",
    " 'IN_APOIO_BOLSA_TRABALHO',\n",
    " 'IN_APOIO_MATERIAL_DIDATICO',\n",
    " 'IN_APOIO_MORADIA',\n",
    " 'IN_APOIO_TRANSPORTE',\n",
    " 'IN_ATIVIDADE_EXTRACURRICULAR',\n",
    " 'IN_COMPLEMENTAR_ESTAGIO',\n",
    " 'IN_COMPLEMENTAR_EXTENSAO',\n",
    " 'IN_COMPLEMENTAR_MONITORIA',\n",
    " 'IN_COMPLEMENTAR_PESQUISA',\n",
    " 'IN_BOLSA_ESTAGIO',\n",
    " 'IN_BOLSA_EXTENSAO',\n",
    " 'IN_BOLSA_MONITORIA',\n",
    " 'IN_BOLSA_PESQUISA',\n",
    " 'TP_ESCOLA_CONCLUSAO_ENS_MEDIO',\n",
    " 'IN_ALUNO_PARFOR',\n",
    " 'TP_SEMESTRE_CONCLUSAO',\n",
    " 'TP_SEMESTRE_REFERENCIA',\n",
    " 'IN_MOBILIDADE_ACADEMICA',\n",
    " 'TP_MOBILIDADE_ACADEMICA',\n",
    " 'TP_MOBILIDADE_ACADEMICA_INTERN',\n",
    " 'CO_IES_DESTINO',\n",
    " 'CO_PAIS_DESTINO',\n",
    " 'IN_MATRICULA',\n",
    " 'IN_CONCLUINTE',\n",
    " 'IN_INGRESSO_TOTAL',\n",
    " 'IN_INGRESSO_VAGA_NOVA',\n",
    " 'IN_INGRESSO_PROCESSO_SELETIVO',\n",
    " 'NU_ANO_INGRESSO']\n",
    "len(columns)"
   ]
  },
  {
   "cell_type": "code",
   "execution_count": 73,
   "metadata": {
    "tags": []
   },
   "outputs": [
    {
     "output_type": "error",
     "ename": "SyntaxError",
     "evalue": "invalid syntax (<ipython-input-73-5e19aeba5cd1>, line 3)",
     "traceback": [
      "\u001b[1;36m  File \u001b[1;32m\"<ipython-input-73-5e19aeba5cd1>\"\u001b[1;36m, line \u001b[1;32m3\u001b[0m\n\u001b[1;33m    print(chunk. )\u001b[0m\n\u001b[1;37m                 ^\u001b[0m\n\u001b[1;31mSyntaxError\u001b[0m\u001b[1;31m:\u001b[0m invalid syntax\n"
     ]
    }
   ],
   "source": [
    "for chunk in df:\n",
    "    for i in range(len(columns)):\n",
    "        print(chunk. )\n",
    "        chunk[columns[i]] = chunk.loc[0].split('|')[i]\n",
    "    print(chunk)\n",
    "    break"
   ]
  },
  {
   "cell_type": "code",
   "execution_count": 92,
   "metadata": {
    "tags": []
   },
   "outputs": [
    {
     "output_type": "error",
     "ename": "Error",
     "evalue": "Pip module Unable to parse debugpy output, please log an issue with https://github.com/microsoft/vscode-jupyter is required for debugging cells. You will need to install it to debug cells.",
     "traceback": [
      "Error: Pip module Unable to parse debugpy output, please log an issue with https://github.com/microsoft/vscode-jupyter is required for debugging cells. You will need to install it to debug cells.",
      "at b.parseConnectInfo (c:\\Users\\rodri\\.vscode\\extensions\\ms-toolsai.jupyter-2020.11.372831992\\out\\client\\extension.js:49:490044)",
      "at b.connectToLocal (c:\\Users\\rodri\\.vscode\\extensions\\ms-toolsai.jupyter-2020.11.372831992\\out\\client\\extension.js:49:490571)",
      "at async b.connect (c:\\Users\\rodri\\.vscode\\extensions\\ms-toolsai.jupyter-2020.11.372831992\\out\\client\\extension.js:49:488448)",
      "at async b.startDebugSession (c:\\Users\\rodri\\.vscode\\extensions\\ms-toolsai.jupyter-2020.11.372831992\\out\\client\\extension.js:49:487595)",
      "at async C.submitCode (c:\\Users\\rodri\\.vscode\\extensions\\ms-toolsai.jupyter-2020.11.372831992\\out\\client\\extension.js:32:565062)",
      "at async C.handleRunByLine (c:\\Users\\rodri\\.vscode\\extensions\\ms-toolsai.jupyter-2020.11.372831992\\out\\client\\extension.js:9:173151)"
     ]
    }
   ],
   "source": [
    "for chunk in df:\n",
    "    chunk = chunk.rename(columns={'NU_ANO_CENSO|CO_IES|TP_CATEGORIA_ADMINISTRATIVA|TP_ORGANIZACAO_ACADEMICA|CO_CURSO|CO_CURSO_POLO|TP_TURNO|TP_GRAU_ACADEMICO|TP_MODALIDADE_ENSINO|TP_NIVEL_ACADEMICO|CO_CINE_ROTULO|ID_ALUNO|CO_ALUNO_CURSO|CO_ALUNO_CURSO_ORIGEM|TP_COR_RACA|TP_SEXO|NU_ANO_NASCIMENTO|NU_MES_NASCIMENTO|NU_DIA_NASCIMENTO|NU_IDADE|TP_NACIONALIDADE|CO_PAIS_ORIGEM|CO_UF_NASCIMENTO|CO_MUNICIPIO_NASCIMENTO|IN_DEFICIENCIA|IN_DEFICIENCIA_AUDITIVA|IN_DEFICIENCIA_FISICA|IN_DEFICIENCIA_INTELECTUAL|IN_DEFICIENCIA_MULTIPLA|IN_DEFICIENCIA_SURDEZ|IN_DEFICIENCIA_SURDOCEGUEIRA|IN_DEFICIENCIA_BAIXA_VISAO|IN_DEFICIENCIA_CEGUEIRA|IN_DEFICIENCIA_SUPERDOTACAO|IN_TGD_AUTISMO|IN_TGD_SINDROME_ASPERGER|IN_TGD_SINDROME_RETT|IN_TGD_TRANSTOR_DESINTEGRATIVO|TP_SITUACAO|QT_CARGA_HORARIA_TOTAL|QT_CARGA_HORARIA_INTEG|DT_INGRESSO_CURSO|IN_INGRESSO_VESTIBULAR|IN_INGRESSO_ENEM|IN_INGRESSO_AVALIACAO_SERIADA|IN_INGRESSO_SELECAO_SIMPLIFICA|IN_INGRESSO_OUTRO_TIPO_SELECAO|IN_INGRESSO_VAGA_REMANESC|IN_INGRESSO_VAGA_PROG_ESPECIAL|IN_INGRESSO_TRANSF_EXOFFICIO|IN_INGRESSO_DECISAO_JUDICIAL|IN_INGRESSO_CONVENIO_PECG|IN_INGRESSO_EGRESSO|IN_INGRESSO_OUTRA_FORMA|IN_RESERVA_VAGAS|IN_RESERVA_ETNICO|IN_RESERVA_DEFICIENCIA|IN_RESERVA_ENSINO_PUBLICO|IN_RESERVA_RENDA_FAMILIAR|IN_RESERVA_OUTRA|IN_FINANCIAMENTO_ESTUDANTIL|IN_FIN_REEMB_FIES|IN_FIN_REEMB_ESTADUAL|IN_FIN_REEMB_MUNICIPAL|IN_FIN_REEMB_PROG_IES|IN_FIN_REEMB_ENT_EXTERNA|IN_FIN_REEMB_OUTRA|IN_FIN_NAOREEMB_PROUNI_INTEGR|IN_FIN_NAOREEMB_PROUNI_PARCIAL|IN_FIN_NAOREEMB_ESTADUAL|IN_FIN_NAOREEMB_MUNICIPAL|IN_FIN_NAOREEMB_PROG_IES|IN_FIN_NAOREEMB_ENT_EXTERNA|IN_FIN_NAOREEMB_OUTRA|IN_APOIO_SOCIAL|IN_APOIO_ALIMENTACAO|IN_APOIO_BOLSA_PERMANENCIA|IN_APOIO_BOLSA_TRABALHO|IN_APOIO_MATERIAL_DIDATICO|IN_APOIO_MORADIA|IN_APOIO_TRANSPORTE|IN_ATIVIDADE_EXTRACURRICULAR|IN_COMPLEMENTAR_ESTAGIO|IN_COMPLEMENTAR_EXTENSAO|IN_COMPLEMENTAR_MONITORIA|IN_COMPLEMENTAR_PESQUISA|IN_BOLSA_ESTAGIO|IN_BOLSA_EXTENSAO|IN_BOLSA_MONITORIA|IN_BOLSA_PESQUISA|TP_ESCOLA_CONCLUSAO_ENS_MEDIO|IN_ALUNO_PARFOR|TP_SEMESTRE_CONCLUSAO|TP_SEMESTRE_REFERENCIA|IN_MOBILIDADE_ACADEMICA|TP_MOBILIDADE_ACADEMICA|TP_MOBILIDADE_ACADEMICA_INTERN|CO_IES_DESTINO|CO_PAIS_DESTINO|IN_MATRICULA|IN_CONCLUINTE|IN_INGRESSO_TOTAL|IN_INGRESSO_VAGA_NOVA|IN_INGRESSO_PROCESSO_SELETIVO|NU_ANO_INGRESSO': 'allData'})\n",
    "    print(chunk.columns)\n",
    "    for i in range(len(columns)):\n",
    "        print(chunk['allData'])\n",
    "        chunk[columns[i]] = 'sem salve' #chunk.apply( ,axis=1) .loc[0].split('|')[i]\n",
    "        #for i in range(1, 105):\n",
    "    chunk['NU_ANO_CENSO'] = chunk.apply( lambda x: 'salve ou ' + x, axis=1)\n",
    "    print(chunk['NU_ANO_CENSO'])\n",
    "    break"
   ]
  },
  {
   "cell_type": "code",
   "execution_count": 80,
   "metadata": {},
   "outputs": [
    {
     "output_type": "error",
     "ename": "StopIteration",
     "evalue": "",
     "traceback": [
      "\u001b[1;31m---------------------------------------------------------------------------\u001b[0m",
      "\u001b[1;31mStopIteration\u001b[0m                             Traceback (most recent call last)",
      "\u001b[1;32m<ipython-input-80-878a2a01aec6>\u001b[0m in \u001b[0;36m<module>\u001b[1;34m\u001b[0m\n\u001b[1;32m----> 1\u001b[1;33m \u001b[0mdf\u001b[0m\u001b[1;33m.\u001b[0m\u001b[0mget_chunk\u001b[0m\u001b[1;33m(\u001b[0m\u001b[1;33m)\u001b[0m\u001b[1;33m\u001b[0m\u001b[1;33m\u001b[0m\u001b[0m\n\u001b[0m",
      "\u001b[1;32mC:\\ProgramData\\Anaconda3\\lib\\site-packages\\pandas\\io\\parsers.py\u001b[0m in \u001b[0;36mget_chunk\u001b[1;34m(self, size)\u001b[0m\n\u001b[0;32m   1186\u001b[0m                 \u001b[1;32mraise\u001b[0m \u001b[0mStopIteration\u001b[0m\u001b[1;33m\u001b[0m\u001b[1;33m\u001b[0m\u001b[0m\n\u001b[0;32m   1187\u001b[0m             \u001b[0msize\u001b[0m \u001b[1;33m=\u001b[0m \u001b[0mmin\u001b[0m\u001b[1;33m(\u001b[0m\u001b[0msize\u001b[0m\u001b[1;33m,\u001b[0m \u001b[0mself\u001b[0m\u001b[1;33m.\u001b[0m\u001b[0mnrows\u001b[0m \u001b[1;33m-\u001b[0m \u001b[0mself\u001b[0m\u001b[1;33m.\u001b[0m\u001b[0m_currow\u001b[0m\u001b[1;33m)\u001b[0m\u001b[1;33m\u001b[0m\u001b[1;33m\u001b[0m\u001b[0m\n\u001b[1;32m-> 1188\u001b[1;33m         \u001b[1;32mreturn\u001b[0m \u001b[0mself\u001b[0m\u001b[1;33m.\u001b[0m\u001b[0mread\u001b[0m\u001b[1;33m(\u001b[0m\u001b[0mnrows\u001b[0m\u001b[1;33m=\u001b[0m\u001b[0msize\u001b[0m\u001b[1;33m)\u001b[0m\u001b[1;33m\u001b[0m\u001b[1;33m\u001b[0m\u001b[0m\n\u001b[0m\u001b[0;32m   1189\u001b[0m \u001b[1;33m\u001b[0m\u001b[0m\n\u001b[0;32m   1190\u001b[0m \u001b[1;33m\u001b[0m\u001b[0m\n",
      "\u001b[1;32mC:\\ProgramData\\Anaconda3\\lib\\site-packages\\pandas\\io\\parsers.py\u001b[0m in \u001b[0;36mread\u001b[1;34m(self, nrows)\u001b[0m\n\u001b[0;32m   1152\u001b[0m     \u001b[1;32mdef\u001b[0m \u001b[0mread\u001b[0m\u001b[1;33m(\u001b[0m\u001b[0mself\u001b[0m\u001b[1;33m,\u001b[0m \u001b[0mnrows\u001b[0m\u001b[1;33m=\u001b[0m\u001b[1;32mNone\u001b[0m\u001b[1;33m)\u001b[0m\u001b[1;33m:\u001b[0m\u001b[1;33m\u001b[0m\u001b[1;33m\u001b[0m\u001b[0m\n\u001b[0;32m   1153\u001b[0m         \u001b[0mnrows\u001b[0m \u001b[1;33m=\u001b[0m \u001b[0m_validate_integer\u001b[0m\u001b[1;33m(\u001b[0m\u001b[1;34m\"nrows\"\u001b[0m\u001b[1;33m,\u001b[0m \u001b[0mnrows\u001b[0m\u001b[1;33m)\u001b[0m\u001b[1;33m\u001b[0m\u001b[1;33m\u001b[0m\u001b[0m\n\u001b[1;32m-> 1154\u001b[1;33m         \u001b[0mret\u001b[0m \u001b[1;33m=\u001b[0m \u001b[0mself\u001b[0m\u001b[1;33m.\u001b[0m\u001b[0m_engine\u001b[0m\u001b[1;33m.\u001b[0m\u001b[0mread\u001b[0m\u001b[1;33m(\u001b[0m\u001b[0mnrows\u001b[0m\u001b[1;33m)\u001b[0m\u001b[1;33m\u001b[0m\u001b[1;33m\u001b[0m\u001b[0m\n\u001b[0m\u001b[0;32m   1155\u001b[0m \u001b[1;33m\u001b[0m\u001b[0m\n\u001b[0;32m   1156\u001b[0m         \u001b[1;31m# May alter columns / col_dict\u001b[0m\u001b[1;33m\u001b[0m\u001b[1;33m\u001b[0m\u001b[1;33m\u001b[0m\u001b[0m\n",
      "\u001b[1;32mC:\\ProgramData\\Anaconda3\\lib\\site-packages\\pandas\\io\\parsers.py\u001b[0m in \u001b[0;36mread\u001b[1;34m(self, nrows)\u001b[0m\n\u001b[0;32m   2057\u001b[0m     \u001b[1;32mdef\u001b[0m \u001b[0mread\u001b[0m\u001b[1;33m(\u001b[0m\u001b[0mself\u001b[0m\u001b[1;33m,\u001b[0m \u001b[0mnrows\u001b[0m\u001b[1;33m=\u001b[0m\u001b[1;32mNone\u001b[0m\u001b[1;33m)\u001b[0m\u001b[1;33m:\u001b[0m\u001b[1;33m\u001b[0m\u001b[1;33m\u001b[0m\u001b[0m\n\u001b[0;32m   2058\u001b[0m         \u001b[1;32mtry\u001b[0m\u001b[1;33m:\u001b[0m\u001b[1;33m\u001b[0m\u001b[1;33m\u001b[0m\u001b[0m\n\u001b[1;32m-> 2059\u001b[1;33m             \u001b[0mdata\u001b[0m \u001b[1;33m=\u001b[0m \u001b[0mself\u001b[0m\u001b[1;33m.\u001b[0m\u001b[0m_reader\u001b[0m\u001b[1;33m.\u001b[0m\u001b[0mread\u001b[0m\u001b[1;33m(\u001b[0m\u001b[0mnrows\u001b[0m\u001b[1;33m)\u001b[0m\u001b[1;33m\u001b[0m\u001b[1;33m\u001b[0m\u001b[0m\n\u001b[0m\u001b[0;32m   2060\u001b[0m         \u001b[1;32mexcept\u001b[0m \u001b[0mStopIteration\u001b[0m\u001b[1;33m:\u001b[0m\u001b[1;33m\u001b[0m\u001b[1;33m\u001b[0m\u001b[0m\n\u001b[0;32m   2061\u001b[0m             \u001b[1;32mif\u001b[0m \u001b[0mself\u001b[0m\u001b[1;33m.\u001b[0m\u001b[0m_first_chunk\u001b[0m\u001b[1;33m:\u001b[0m\u001b[1;33m\u001b[0m\u001b[1;33m\u001b[0m\u001b[0m\n",
      "\u001b[1;32mpandas\\_libs\\parsers.pyx\u001b[0m in \u001b[0;36mpandas._libs.parsers.TextReader.read\u001b[1;34m()\u001b[0m\n",
      "\u001b[1;32mpandas\\_libs\\parsers.pyx\u001b[0m in \u001b[0;36mpandas._libs.parsers.TextReader._read_low_memory\u001b[1;34m()\u001b[0m\n",
      "\u001b[1;31mStopIteration\u001b[0m: "
     ]
    }
   ],
   "source": [
    "df.get_chunk()"
   ]
  },
  {
   "cell_type": "code",
   "execution_count": 42,
   "metadata": {},
   "outputs": [
    {
     "data": {
      "text/html": [
       "<div>\n",
       "<style scoped>\n",
       "    .dataframe tbody tr th:only-of-type {\n",
       "        vertical-align: middle;\n",
       "    }\n",
       "\n",
       "    .dataframe tbody tr th {\n",
       "        vertical-align: top;\n",
       "    }\n",
       "\n",
       "    .dataframe thead th {\n",
       "        text-align: right;\n",
       "    }\n",
       "</style>\n",
       "<table border=\"1\" class=\"dataframe\">\n",
       "  <thead>\n",
       "    <tr style=\"text-align: right;\">\n",
       "      <th></th>\n",
       "      <th>NU_ANO_CENSO|CO_IES|TP_CATEGORIA_ADMINISTRATIVA|TP_ORGANIZACAO_ACADEMICA|CO_CURSO|CO_CURSO_POLO|TP_TURNO|TP_GRAU_ACADEMICO|TP_MODALIDADE_ENSINO|TP_NIVEL_ACADEMICO|CO_CINE_ROTULO|ID_ALUNO|CO_ALUNO_CURSO|CO_ALUNO_CURSO_ORIGEM|TP_COR_RACA|TP_SEXO|NU_ANO_NASCIMENTO|NU_MES_NASCIMENTO|NU_DIA_NASCIMENTO|NU_IDADE|TP_NACIONALIDADE|CO_PAIS_ORIGEM|CO_UF_NASCIMENTO|CO_MUNICIPIO_NASCIMENTO|IN_DEFICIENCIA|IN_DEFICIENCIA_AUDITIVA|IN_DEFICIENCIA_FISICA|IN_DEFICIENCIA_INTELECTUAL|IN_DEFICIENCIA_MULTIPLA|IN_DEFICIENCIA_SURDEZ|IN_DEFICIENCIA_SURDOCEGUEIRA|IN_DEFICIENCIA_BAIXA_VISAO|IN_DEFICIENCIA_CEGUEIRA|IN_DEFICIENCIA_SUPERDOTACAO|IN_TGD_AUTISMO|IN_TGD_SINDROME_ASPERGER|IN_TGD_SINDROME_RETT|IN_TGD_TRANSTOR_DESINTEGRATIVO|TP_SITUACAO|QT_CARGA_HORARIA_TOTAL|QT_CARGA_HORARIA_INTEG|DT_INGRESSO_CURSO|IN_INGRESSO_VESTIBULAR|IN_INGRESSO_ENEM|IN_INGRESSO_AVALIACAO_SERIADA|IN_INGRESSO_SELECAO_SIMPLIFICA|IN_INGRESSO_OUTRO_TIPO_SELECAO|IN_INGRESSO_VAGA_REMANESC|IN_INGRESSO_VAGA_PROG_ESPECIAL|IN_INGRESSO_TRANSF_EXOFFICIO|IN_INGRESSO_DECISAO_JUDICIAL|IN_INGRESSO_CONVENIO_PECG|IN_INGRESSO_EGRESSO|IN_INGRESSO_OUTRA_FORMA|IN_RESERVA_VAGAS|IN_RESERVA_ETNICO|IN_RESERVA_DEFICIENCIA|IN_RESERVA_ENSINO_PUBLICO|IN_RESERVA_RENDA_FAMILIAR|IN_RESERVA_OUTRA|IN_FINANCIAMENTO_ESTUDANTIL|IN_FIN_REEMB_FIES|IN_FIN_REEMB_ESTADUAL|IN_FIN_REEMB_MUNICIPAL|IN_FIN_REEMB_PROG_IES|IN_FIN_REEMB_ENT_EXTERNA|IN_FIN_REEMB_OUTRA|IN_FIN_NAOREEMB_PROUNI_INTEGR|IN_FIN_NAOREEMB_PROUNI_PARCIAL|IN_FIN_NAOREEMB_ESTADUAL|IN_FIN_NAOREEMB_MUNICIPAL|IN_FIN_NAOREEMB_PROG_IES|IN_FIN_NAOREEMB_ENT_EXTERNA|IN_FIN_NAOREEMB_OUTRA|IN_APOIO_SOCIAL|IN_APOIO_ALIMENTACAO|IN_APOIO_BOLSA_PERMANENCIA|IN_APOIO_BOLSA_TRABALHO|IN_APOIO_MATERIAL_DIDATICO|IN_APOIO_MORADIA|IN_APOIO_TRANSPORTE|IN_ATIVIDADE_EXTRACURRICULAR|IN_COMPLEMENTAR_ESTAGIO|IN_COMPLEMENTAR_EXTENSAO|IN_COMPLEMENTAR_MONITORIA|IN_COMPLEMENTAR_PESQUISA|IN_BOLSA_ESTAGIO|IN_BOLSA_EXTENSAO|IN_BOLSA_MONITORIA|IN_BOLSA_PESQUISA|TP_ESCOLA_CONCLUSAO_ENS_MEDIO|IN_ALUNO_PARFOR|TP_SEMESTRE_CONCLUSAO|TP_SEMESTRE_REFERENCIA|IN_MOBILIDADE_ACADEMICA|TP_MOBILIDADE_ACADEMICA|TP_MOBILIDADE_ACADEMICA_INTERN|CO_IES_DESTINO|CO_PAIS_DESTINO|IN_MATRICULA|IN_CONCLUINTE|IN_INGRESSO_TOTAL|IN_INGRESSO_VAGA_NOVA|IN_INGRESSO_PROCESSO_SELETIVO|NU_ANO_INGRESSO</th>\n",
       "    </tr>\n",
       "  </thead>\n",
       "  <tbody>\n",
       "    <tr>\n",
       "      <td>0</td>\n",
       "      <td>2019|1|1|1|1||3|1|1|1|0421D01|7DF871BB3D8DEB4A...</td>\n",
       "    </tr>\n",
       "    <tr>\n",
       "      <td>1</td>\n",
       "      <td>2019|1|1|1|1||3|1|1|1|0421D01|77996A099C3C7607...</td>\n",
       "    </tr>\n",
       "    <tr>\n",
       "      <td>2</td>\n",
       "      <td>2019|1|1|1|1||3|1|1|1|0421D01|C29BBC4B8A68A0B3...</td>\n",
       "    </tr>\n",
       "    <tr>\n",
       "      <td>3</td>\n",
       "      <td>2019|1|1|1|1||3|1|1|1|0421D01|B51D6C755F210E07...</td>\n",
       "    </tr>\n",
       "    <tr>\n",
       "      <td>4</td>\n",
       "      <td>2019|1|1|1|1||3|1|1|1|0421D01|C17ADA14A9ACE1C7...</td>\n",
       "    </tr>\n",
       "  </tbody>\n",
       "</table>\n",
       "</div>"
      ],
      "text/plain": [
       "  NU_ANO_CENSO|CO_IES|TP_CATEGORIA_ADMINISTRATIVA|TP_ORGANIZACAO_ACADEMICA|CO_CURSO|CO_CURSO_POLO|TP_TURNO|TP_GRAU_ACADEMICO|TP_MODALIDADE_ENSINO|TP_NIVEL_ACADEMICO|CO_CINE_ROTULO|ID_ALUNO|CO_ALUNO_CURSO|CO_ALUNO_CURSO_ORIGEM|TP_COR_RACA|TP_SEXO|NU_ANO_NASCIMENTO|NU_MES_NASCIMENTO|NU_DIA_NASCIMENTO|NU_IDADE|TP_NACIONALIDADE|CO_PAIS_ORIGEM|CO_UF_NASCIMENTO|CO_MUNICIPIO_NASCIMENTO|IN_DEFICIENCIA|IN_DEFICIENCIA_AUDITIVA|IN_DEFICIENCIA_FISICA|IN_DEFICIENCIA_INTELECTUAL|IN_DEFICIENCIA_MULTIPLA|IN_DEFICIENCIA_SURDEZ|IN_DEFICIENCIA_SURDOCEGUEIRA|IN_DEFICIENCIA_BAIXA_VISAO|IN_DEFICIENCIA_CEGUEIRA|IN_DEFICIENCIA_SUPERDOTACAO|IN_TGD_AUTISMO|IN_TGD_SINDROME_ASPERGER|IN_TGD_SINDROME_RETT|IN_TGD_TRANSTOR_DESINTEGRATIVO|TP_SITUACAO|QT_CARGA_HORARIA_TOTAL|QT_CARGA_HORARIA_INTEG|DT_INGRESSO_CURSO|IN_INGRESSO_VESTIBULAR|IN_INGRESSO_ENEM|IN_INGRESSO_AVALIACAO_SERIADA|IN_INGRESSO_SELECAO_SIMPLIFICA|IN_INGRESSO_OUTRO_TIPO_SELECAO|IN_INGRESSO_VAGA_REMANESC|IN_INGRESSO_VAGA_PROG_ESPECIAL|IN_INGRESSO_TRANSF_EXOFFICIO|IN_INGRESSO_DECISAO_JUDICIAL|IN_INGRESSO_CONVENIO_PECG|IN_INGRESSO_EGRESSO|IN_INGRESSO_OUTRA_FORMA|IN_RESERVA_VAGAS|IN_RESERVA_ETNICO|IN_RESERVA_DEFICIENCIA|IN_RESERVA_ENSINO_PUBLICO|IN_RESERVA_RENDA_FAMILIAR|IN_RESERVA_OUTRA|IN_FINANCIAMENTO_ESTUDANTIL|IN_FIN_REEMB_FIES|IN_FIN_REEMB_ESTADUAL|IN_FIN_REEMB_MUNICIPAL|IN_FIN_REEMB_PROG_IES|IN_FIN_REEMB_ENT_EXTERNA|IN_FIN_REEMB_OUTRA|IN_FIN_NAOREEMB_PROUNI_INTEGR|IN_FIN_NAOREEMB_PROUNI_PARCIAL|IN_FIN_NAOREEMB_ESTADUAL|IN_FIN_NAOREEMB_MUNICIPAL|IN_FIN_NAOREEMB_PROG_IES|IN_FIN_NAOREEMB_ENT_EXTERNA|IN_FIN_NAOREEMB_OUTRA|IN_APOIO_SOCIAL|IN_APOIO_ALIMENTACAO|IN_APOIO_BOLSA_PERMANENCIA|IN_APOIO_BOLSA_TRABALHO|IN_APOIO_MATERIAL_DIDATICO|IN_APOIO_MORADIA|IN_APOIO_TRANSPORTE|IN_ATIVIDADE_EXTRACURRICULAR|IN_COMPLEMENTAR_ESTAGIO|IN_COMPLEMENTAR_EXTENSAO|IN_COMPLEMENTAR_MONITORIA|IN_COMPLEMENTAR_PESQUISA|IN_BOLSA_ESTAGIO|IN_BOLSA_EXTENSAO|IN_BOLSA_MONITORIA|IN_BOLSA_PESQUISA|TP_ESCOLA_CONCLUSAO_ENS_MEDIO|IN_ALUNO_PARFOR|TP_SEMESTRE_CONCLUSAO|TP_SEMESTRE_REFERENCIA|IN_MOBILIDADE_ACADEMICA|TP_MOBILIDADE_ACADEMICA|TP_MOBILIDADE_ACADEMICA_INTERN|CO_IES_DESTINO|CO_PAIS_DESTINO|IN_MATRICULA|IN_CONCLUINTE|IN_INGRESSO_TOTAL|IN_INGRESSO_VAGA_NOVA|IN_INGRESSO_PROCESSO_SELETIVO|NU_ANO_INGRESSO\n",
       "0  2019|1|1|1|1||3|1|1|1|0421D01|7DF871BB3D8DEB4A...                                                                                                                                                                                                                                                                                                                                                                                                                                                                                                                                                                                                                                                                                                                                                                                                                                                                                                                                                                                                                                                                                                                                                                                                                                                                                                                                                                                                                                                                                                                                                                                                                                                                                                                                                                                                                                                                                                                                                                                                                                                                                                                                                                                                                                                                                  \n",
       "1  2019|1|1|1|1||3|1|1|1|0421D01|77996A099C3C7607...                                                                                                                                                                                                                                                                                                                                                                                                                                                                                                                                                                                                                                                                                                                                                                                                                                                                                                                                                                                                                                                                                                                                                                                                                                                                                                                                                                                                                                                                                                                                                                                                                                                                                                                                                                                                                                                                                                                                                                                                                                                                                                                                                                                                                                                                                  \n",
       "2  2019|1|1|1|1||3|1|1|1|0421D01|C29BBC4B8A68A0B3...                                                                                                                                                                                                                                                                                                                                                                                                                                                                                                                                                                                                                                                                                                                                                                                                                                                                                                                                                                                                                                                                                                                                                                                                                                                                                                                                                                                                                                                                                                                                                                                                                                                                                                                                                                                                                                                                                                                                                                                                                                                                                                                                                                                                                                                                                  \n",
       "3  2019|1|1|1|1||3|1|1|1|0421D01|B51D6C755F210E07...                                                                                                                                                                                                                                                                                                                                                                                                                                                                                                                                                                                                                                                                                                                                                                                                                                                                                                                                                                                                                                                                                                                                                                                                                                                                                                                                                                                                                                                                                                                                                                                                                                                                                                                                                                                                                                                                                                                                                                                                                                                                                                                                                                                                                                                                                  \n",
       "4  2019|1|1|1|1||3|1|1|1|0421D01|C17ADA14A9ACE1C7...                                                                                                                                                                                                                                                                                                                                                                                                                                                                                                                                                                                                                                                                                                                                                                                                                                                                                                                                                                                                                                                                                                                                                                                                                                                                                                                                                                                                                                                                                                                                                                                                                                                                                                                                                                                                                                                                                                                                                                                                                                                                                                                                                                                                                                                                                  "
      ]
     },
     "execution_count": 42,
     "metadata": {},
     "output_type": "execute_result"
    }
   ],
   "source": [
    "df_copy = df.copy()\n",
    "df_copy.head()"
   ]
  },
  {
   "cell_type": "code",
   "execution_count": 45,
   "metadata": {},
   "outputs": [
    {
     "data": {
      "text/plain": [
       "['NU_ANO_CENSO',\n",
       " 'CO_IES',\n",
       " 'TP_CATEGORIA_ADMINISTRATIVA',\n",
       " 'TP_ORGANIZACAO_ACADEMICA',\n",
       " 'CO_CURSO',\n",
       " 'CO_CURSO_POLO',\n",
       " 'TP_TURNO',\n",
       " 'TP_GRAU_ACADEMICO',\n",
       " 'TP_MODALIDADE_ENSINO',\n",
       " 'TP_NIVEL_ACADEMICO',\n",
       " 'CO_CINE_ROTULO',\n",
       " 'ID_ALUNO',\n",
       " 'CO_ALUNO_CURSO',\n",
       " 'CO_ALUNO_CURSO_ORIGEM',\n",
       " 'TP_COR_RACA',\n",
       " 'TP_SEXO',\n",
       " 'NU_ANO_NASCIMENTO',\n",
       " 'NU_MES_NASCIMENTO',\n",
       " 'NU_DIA_NASCIMENTO',\n",
       " 'NU_IDADE',\n",
       " 'TP_NACIONALIDADE',\n",
       " 'CO_PAIS_ORIGEM',\n",
       " 'CO_UF_NASCIMENTO',\n",
       " 'CO_MUNICIPIO_NASCIMENTO',\n",
       " 'IN_DEFICIENCIA',\n",
       " 'IN_DEFICIENCIA_AUDITIVA',\n",
       " 'IN_DEFICIENCIA_FISICA',\n",
       " 'IN_DEFICIENCIA_INTELECTUAL',\n",
       " 'IN_DEFICIENCIA_MULTIPLA',\n",
       " 'IN_DEFICIENCIA_SURDEZ',\n",
       " 'IN_DEFICIENCIA_SURDOCEGUEIRA',\n",
       " 'IN_DEFICIENCIA_BAIXA_VISAO',\n",
       " 'IN_DEFICIENCIA_CEGUEIRA',\n",
       " 'IN_DEFICIENCIA_SUPERDOTACAO',\n",
       " 'IN_TGD_AUTISMO',\n",
       " 'IN_TGD_SINDROME_ASPERGER',\n",
       " 'IN_TGD_SINDROME_RETT',\n",
       " 'IN_TGD_TRANSTOR_DESINTEGRATIVO',\n",
       " 'TP_SITUACAO',\n",
       " 'QT_CARGA_HORARIA_TOTAL',\n",
       " 'QT_CARGA_HORARIA_INTEG',\n",
       " 'DT_INGRESSO_CURSO',\n",
       " 'IN_INGRESSO_VESTIBULAR',\n",
       " 'IN_INGRESSO_ENEM',\n",
       " 'IN_INGRESSO_AVALIACAO_SERIADA',\n",
       " 'IN_INGRESSO_SELECAO_SIMPLIFICA',\n",
       " 'IN_INGRESSO_OUTRO_TIPO_SELECAO',\n",
       " 'IN_INGRESSO_VAGA_REMANESC',\n",
       " 'IN_INGRESSO_VAGA_PROG_ESPECIAL',\n",
       " 'IN_INGRESSO_TRANSF_EXOFFICIO',\n",
       " 'IN_INGRESSO_DECISAO_JUDICIAL',\n",
       " 'IN_INGRESSO_CONVENIO_PECG',\n",
       " 'IN_INGRESSO_EGRESSO',\n",
       " 'IN_INGRESSO_OUTRA_FORMA',\n",
       " 'IN_RESERVA_VAGAS',\n",
       " 'IN_RESERVA_ETNICO',\n",
       " 'IN_RESERVA_DEFICIENCIA',\n",
       " 'IN_RESERVA_ENSINO_PUBLICO',\n",
       " 'IN_RESERVA_RENDA_FAMILIAR',\n",
       " 'IN_RESERVA_OUTRA',\n",
       " 'IN_FINANCIAMENTO_ESTUDANTIL',\n",
       " 'IN_FIN_REEMB_FIES',\n",
       " 'IN_FIN_REEMB_ESTADUAL',\n",
       " 'IN_FIN_REEMB_MUNICIPAL',\n",
       " 'IN_FIN_REEMB_PROG_IES',\n",
       " 'IN_FIN_REEMB_ENT_EXTERNA',\n",
       " 'IN_FIN_REEMB_OUTRA',\n",
       " 'IN_FIN_NAOREEMB_PROUNI_INTEGR',\n",
       " 'IN_FIN_NAOREEMB_PROUNI_PARCIAL',\n",
       " 'IN_FIN_NAOREEMB_ESTADUAL',\n",
       " 'IN_FIN_NAOREEMB_MUNICIPAL',\n",
       " 'IN_FIN_NAOREEMB_PROG_IES',\n",
       " 'IN_FIN_NAOREEMB_ENT_EXTERNA',\n",
       " 'IN_FIN_NAOREEMB_OUTRA',\n",
       " 'IN_APOIO_SOCIAL',\n",
       " 'IN_APOIO_ALIMENTACAO',\n",
       " 'IN_APOIO_BOLSA_PERMANENCIA',\n",
       " 'IN_APOIO_BOLSA_TRABALHO',\n",
       " 'IN_APOIO_MATERIAL_DIDATICO',\n",
       " 'IN_APOIO_MORADIA',\n",
       " 'IN_APOIO_TRANSPORTE',\n",
       " 'IN_ATIVIDADE_EXTRACURRICULAR',\n",
       " 'IN_COMPLEMENTAR_ESTAGIO',\n",
       " 'IN_COMPLEMENTAR_EXTENSAO',\n",
       " 'IN_COMPLEMENTAR_MONITORIA',\n",
       " 'IN_COMPLEMENTAR_PESQUISA',\n",
       " 'IN_BOLSA_ESTAGIO',\n",
       " 'IN_BOLSA_EXTENSAO',\n",
       " 'IN_BOLSA_MONITORIA',\n",
       " 'IN_BOLSA_PESQUISA',\n",
       " 'TP_ESCOLA_CONCLUSAO_ENS_MEDIO',\n",
       " 'IN_ALUNO_PARFOR',\n",
       " 'TP_SEMESTRE_CONCLUSAO',\n",
       " 'TP_SEMESTRE_REFERENCIA',\n",
       " 'IN_MOBILIDADE_ACADEMICA',\n",
       " 'TP_MOBILIDADE_ACADEMICA',\n",
       " 'TP_MOBILIDADE_ACADEMICA_INTERN',\n",
       " 'CO_IES_DESTINO',\n",
       " 'CO_PAIS_DESTINO',\n",
       " 'IN_MATRICULA',\n",
       " 'IN_CONCLUINTE',\n",
       " 'IN_INGRESSO_TOTAL',\n",
       " 'IN_INGRESSO_VAGA_NOVA',\n",
       " 'IN_INGRESSO_PROCESSO_SELETIVO',\n",
       " 'NU_ANO_INGRESSO']"
      ]
     },
     "execution_count": 45,
     "metadata": {},
     "output_type": "execute_result"
    }
   ],
   "source": [
    "columns = df.columns.to_list()[0].split('|')\n",
    "columns"
   ]
  },
  {
   "cell_type": "code",
   "execution_count": 49,
   "metadata": {},
   "outputs": [
    {
     "ename": "MemoryError",
     "evalue": "",
     "output_type": "error",
     "traceback": [
      "\u001b[1;31m---------------------------------------------------------------------------\u001b[0m",
      "\u001b[1;31mMemoryError\u001b[0m                               Traceback (most recent call last)",
      "\u001b[1;32m<ipython-input-49-811e7b4493fc>\u001b[0m in \u001b[0;36m<module>\u001b[1;34m\u001b[0m\n\u001b[1;32m----> 1\u001b[1;33m \u001b[0mdf_copy\u001b[0m\u001b[1;33m[\u001b[0m\u001b[1;34m'teste'\u001b[0m\u001b[1;33m]\u001b[0m \u001b[1;33m=\u001b[0m \u001b[1;36m1\u001b[0m\u001b[1;33m\u001b[0m\u001b[1;33m\u001b[0m\u001b[0m\n\u001b[0m",
      "\u001b[1;32mC:\\ProgramData\\Anaconda3\\lib\\site-packages\\pandas\\core\\frame.py\u001b[0m in \u001b[0;36m__setitem__\u001b[1;34m(self, key, value)\u001b[0m\n\u001b[0;32m   3470\u001b[0m         \u001b[1;32melse\u001b[0m\u001b[1;33m:\u001b[0m\u001b[1;33m\u001b[0m\u001b[1;33m\u001b[0m\u001b[0m\n\u001b[0;32m   3471\u001b[0m             \u001b[1;31m# set column\u001b[0m\u001b[1;33m\u001b[0m\u001b[1;33m\u001b[0m\u001b[1;33m\u001b[0m\u001b[0m\n\u001b[1;32m-> 3472\u001b[1;33m             \u001b[0mself\u001b[0m\u001b[1;33m.\u001b[0m\u001b[0m_set_item\u001b[0m\u001b[1;33m(\u001b[0m\u001b[0mkey\u001b[0m\u001b[1;33m,\u001b[0m \u001b[0mvalue\u001b[0m\u001b[1;33m)\u001b[0m\u001b[1;33m\u001b[0m\u001b[1;33m\u001b[0m\u001b[0m\n\u001b[0m\u001b[0;32m   3473\u001b[0m \u001b[1;33m\u001b[0m\u001b[0m\n\u001b[0;32m   3474\u001b[0m     \u001b[1;32mdef\u001b[0m \u001b[0m_setitem_slice\u001b[0m\u001b[1;33m(\u001b[0m\u001b[0mself\u001b[0m\u001b[1;33m,\u001b[0m \u001b[0mkey\u001b[0m\u001b[1;33m,\u001b[0m \u001b[0mvalue\u001b[0m\u001b[1;33m)\u001b[0m\u001b[1;33m:\u001b[0m\u001b[1;33m\u001b[0m\u001b[1;33m\u001b[0m\u001b[0m\n",
      "\u001b[1;32mC:\\ProgramData\\Anaconda3\\lib\\site-packages\\pandas\\core\\frame.py\u001b[0m in \u001b[0;36m_set_item\u001b[1;34m(self, key, value)\u001b[0m\n\u001b[0;32m   3547\u001b[0m \u001b[1;33m\u001b[0m\u001b[0m\n\u001b[0;32m   3548\u001b[0m         \u001b[0mself\u001b[0m\u001b[1;33m.\u001b[0m\u001b[0m_ensure_valid_index\u001b[0m\u001b[1;33m(\u001b[0m\u001b[0mvalue\u001b[0m\u001b[1;33m)\u001b[0m\u001b[1;33m\u001b[0m\u001b[1;33m\u001b[0m\u001b[0m\n\u001b[1;32m-> 3549\u001b[1;33m         \u001b[0mvalue\u001b[0m \u001b[1;33m=\u001b[0m \u001b[0mself\u001b[0m\u001b[1;33m.\u001b[0m\u001b[0m_sanitize_column\u001b[0m\u001b[1;33m(\u001b[0m\u001b[0mkey\u001b[0m\u001b[1;33m,\u001b[0m \u001b[0mvalue\u001b[0m\u001b[1;33m)\u001b[0m\u001b[1;33m\u001b[0m\u001b[1;33m\u001b[0m\u001b[0m\n\u001b[0m\u001b[0;32m   3550\u001b[0m         \u001b[0mNDFrame\u001b[0m\u001b[1;33m.\u001b[0m\u001b[0m_set_item\u001b[0m\u001b[1;33m(\u001b[0m\u001b[0mself\u001b[0m\u001b[1;33m,\u001b[0m \u001b[0mkey\u001b[0m\u001b[1;33m,\u001b[0m \u001b[0mvalue\u001b[0m\u001b[1;33m)\u001b[0m\u001b[1;33m\u001b[0m\u001b[1;33m\u001b[0m\u001b[0m\n\u001b[0;32m   3551\u001b[0m \u001b[1;33m\u001b[0m\u001b[0m\n",
      "\u001b[1;32mC:\\ProgramData\\Anaconda3\\lib\\site-packages\\pandas\\core\\frame.py\u001b[0m in \u001b[0;36m_sanitize_column\u001b[1;34m(self, key, value, broadcast)\u001b[0m\n\u001b[0;32m   3754\u001b[0m \u001b[1;33m\u001b[0m\u001b[0m\n\u001b[0;32m   3755\u001b[0m             \u001b[1;31m# upcast\u001b[0m\u001b[1;33m\u001b[0m\u001b[1;33m\u001b[0m\u001b[1;33m\u001b[0m\u001b[0m\n\u001b[1;32m-> 3756\u001b[1;33m             \u001b[0mvalue\u001b[0m \u001b[1;33m=\u001b[0m \u001b[0mcast_scalar_to_array\u001b[0m\u001b[1;33m(\u001b[0m\u001b[0mlen\u001b[0m\u001b[1;33m(\u001b[0m\u001b[0mself\u001b[0m\u001b[1;33m.\u001b[0m\u001b[0mindex\u001b[0m\u001b[1;33m)\u001b[0m\u001b[1;33m,\u001b[0m \u001b[0mvalue\u001b[0m\u001b[1;33m)\u001b[0m\u001b[1;33m\u001b[0m\u001b[1;33m\u001b[0m\u001b[0m\n\u001b[0m\u001b[0;32m   3757\u001b[0m             \u001b[0mvalue\u001b[0m \u001b[1;33m=\u001b[0m \u001b[0mmaybe_cast_to_datetime\u001b[0m\u001b[1;33m(\u001b[0m\u001b[0mvalue\u001b[0m\u001b[1;33m,\u001b[0m \u001b[0minfer_dtype\u001b[0m\u001b[1;33m)\u001b[0m\u001b[1;33m\u001b[0m\u001b[1;33m\u001b[0m\u001b[0m\n\u001b[0;32m   3758\u001b[0m \u001b[1;33m\u001b[0m\u001b[0m\n",
      "\u001b[1;32mC:\\ProgramData\\Anaconda3\\lib\\site-packages\\pandas\\core\\dtypes\\cast.py\u001b[0m in \u001b[0;36mcast_scalar_to_array\u001b[1;34m(shape, value, dtype)\u001b[0m\n\u001b[0;32m   1187\u001b[0m         \u001b[0mfill_value\u001b[0m \u001b[1;33m=\u001b[0m \u001b[0mvalue\u001b[0m\u001b[1;33m\u001b[0m\u001b[1;33m\u001b[0m\u001b[0m\n\u001b[0;32m   1188\u001b[0m \u001b[1;33m\u001b[0m\u001b[0m\n\u001b[1;32m-> 1189\u001b[1;33m     \u001b[0mvalues\u001b[0m \u001b[1;33m=\u001b[0m \u001b[0mnp\u001b[0m\u001b[1;33m.\u001b[0m\u001b[0mempty\u001b[0m\u001b[1;33m(\u001b[0m\u001b[0mshape\u001b[0m\u001b[1;33m,\u001b[0m \u001b[0mdtype\u001b[0m\u001b[1;33m=\u001b[0m\u001b[0mdtype\u001b[0m\u001b[1;33m)\u001b[0m\u001b[1;33m\u001b[0m\u001b[1;33m\u001b[0m\u001b[0m\n\u001b[0m\u001b[0;32m   1190\u001b[0m     \u001b[0mvalues\u001b[0m\u001b[1;33m.\u001b[0m\u001b[0mfill\u001b[0m\u001b[1;33m(\u001b[0m\u001b[0mfill_value\u001b[0m\u001b[1;33m)\u001b[0m\u001b[1;33m\u001b[0m\u001b[1;33m\u001b[0m\u001b[0m\n\u001b[0;32m   1191\u001b[0m \u001b[1;33m\u001b[0m\u001b[0m\n",
      "\u001b[1;31mMemoryError\u001b[0m: "
     ]
    }
   ],
   "source": [
    "df_copy['teste'] = 1"
   ]
  },
  {
   "cell_type": "code",
   "execution_count": 66,
   "metadata": {},
   "outputs": [
    {
     "ename": "TypeError",
     "evalue": "'int' object is not iterable",
     "output_type": "error",
     "traceback": [
      "\u001b[1;31m---------------------------------------------------------------------------\u001b[0m",
      "\u001b[1;31mTypeError\u001b[0m                                 Traceback (most recent call last)",
      "\u001b[1;32m<ipython-input-66-cd2ae9483120>\u001b[0m in \u001b[0;36m<module>\u001b[1;34m\u001b[0m\n\u001b[1;32m----> 1\u001b[1;33m \u001b[1;32mfor\u001b[0m \u001b[0mi\u001b[0m \u001b[1;32min\u001b[0m \u001b[0mlen\u001b[0m\u001b[1;33m(\u001b[0m\u001b[0mcolumns\u001b[0m\u001b[1;33m)\u001b[0m\u001b[1;33m:\u001b[0m\u001b[1;33m\u001b[0m\u001b[1;33m\u001b[0m\u001b[0m\n\u001b[0m\u001b[0;32m      2\u001b[0m     \u001b[0mdf_copy\u001b[0m\u001b[1;33m[\u001b[0m\u001b[0mcolumn\u001b[0m\u001b[1;33m[\u001b[0m\u001b[0mi\u001b[0m\u001b[1;33m]\u001b[0m\u001b[1;33m]\u001b[0m \u001b[1;33m=\u001b[0m \u001b[0mdf\u001b[0m\u001b[1;33m.\u001b[0m\u001b[0mloc\u001b[0m\u001b[1;33m[\u001b[0m\u001b[1;36m0\u001b[0m\u001b[1;33m]\u001b[0m\u001b[1;33m[\u001b[0m\u001b[1;36m0\u001b[0m\u001b[1;33m]\u001b[0m\u001b[1;33m.\u001b[0m\u001b[0msplit\u001b[0m\u001b[1;33m(\u001b[0m\u001b[1;34m'|'\u001b[0m\u001b[1;33m)\u001b[0m\u001b[1;33m[\u001b[0m\u001b[0mi\u001b[0m\u001b[1;33m]\u001b[0m\u001b[1;33m\u001b[0m\u001b[1;33m\u001b[0m\u001b[0m\n\u001b[0;32m      3\u001b[0m \u001b[0mdf_copy\u001b[0m\u001b[1;33m\u001b[0m\u001b[1;33m\u001b[0m\u001b[0m\n",
      "\u001b[1;31mTypeError\u001b[0m: 'int' object is not iterable"
     ]
    }
   ],
   "source": [
    "for i in len(columns):\n",
    "    df_copy[column[i]] = df.loc[0][0].split('|')[i]\n",
    "df_copy"
   ]
  },
  {
   "cell_type": "code",
   "execution_count": null,
   "metadata": {},
   "outputs": [],
   "source": [
    "def separateData(row):\n",
    "    print(row)"
   ]
  },
  {
   "cell_type": "code",
   "execution_count": 39,
   "metadata": {
    "scrolled": true
   },
   "outputs": [
    {
     "name": "stdout",
     "output_type": "stream",
     "text": [
      "['2019', '1', '1', '1', '1', '', '3', '1', '1', '1', '0421D01', '7DF871BB3D8DEB4AEFCA90BC1E25EA26', '73964798', '', '2', '1', '1992', '9', '30', '27', '1', '76', '', '', '9', '', '', '', '', '', '', '', '', '', '', '', '', '', '2', '3700', '3700', '01JAN2017:00:00:00', '0', '0', '0', '0', '', '0', '0', '1', '0', '0', '0', '', '0', '', '', '', '', '', '', '', '', '', '', '', '', '', '', '', '', '', '', '', '0', '', '', '', '', '', '', '0', '', '', '', '', '', '', '', '', '1', '', '', '2', '0', '', '', '', '', '1', '0', '0', '0', '', '2017']\n",
      "['2019', '1', '1', '1', '1', '', '3', '1', '1', '1', '0421D01', '77996A099C3C7607E8AB1EF9BB1F4307', '73959106', '', '3', '2', '1987', '6', '8', '32', '1', '76', '', '', '9', '', '', '', '', '', '', '', '', '', '', '', '', '', '3', '3700', '960', '01JAN2016:00:00:00', '0', '1', '0', '0', '', '0', '0', '0', '0', '0', '0', '', '1', '1', '0', '1', '0', '0', '', '', '', '', '', '', '', '', '', '', '', '', '', '', '0', '', '', '', '', '', '', '0', '', '', '', '', '', '', '', '', '1', '', '', '2', '', '', '', '', '', '0', '0', '0', '0', '', '2016']\n",
      "['2019', '1', '1', '1', '1', '', '3', '1', '1', '1', '0421D01', 'C29BBC4B8A68A0B3EEEAB8CC584B023B', '74008622', '', '3', '2', '1988', '1', '13', '31', '1', '76', '', '', '9', '', '', '', '', '', '', '', '', '', '', '', '', '', '2', '3700', '2490', '01JAN2012:00:00:00', '0', '1', '0', '0', '', '0', '0', '0', '0', '0', '0', '', '1', '0', '0', '1', '0', '0', '', '', '', '', '', '', '', '', '', '', '', '', '', '', '0', '', '', '', '', '', '', '0', '', '', '', '', '', '', '', '', '1', '', '', '2', '0', '', '', '', '', '1', '0', '0', '0', '', '2012']\n",
      "['2019', '1', '1', '1', '1', '', '3', '1', '1', '1', '0421D01', 'B51D6C755F210E07D402B4F36700EC82', '73958663', '', '2', '1', '1988', '10', '3', '31', '1', '76', '', '', '9', '', '', '', '', '', '', '', '', '', '', '', '', '', '4', '3700', '0', '01JAN2015:00:00:00', '0', '1', '0', '0', '', '0', '0', '0', '0', '0', '0', '', '1', '1', '0', '1', '0', '0', '', '', '', '', '', '', '', '', '', '', '', '', '', '', '0', '', '', '', '', '', '', '0', '', '', '', '', '', '', '', '', '1', '', '', '2', '', '', '', '', '', '0', '0', '0', '0', '', '2015']\n",
      "['2019', '1', '1', '1', '1', '', '3', '1', '1', '1', '0421D01', 'C17ADA14A9ACE1C75E9A0738E5B23CB6', '73957885', '', '3', '2', '1977', '4', '8', '42', '1', '76', '', '', '9', '', '', '', '', '', '', '', '', '', '', '', '', '', '6', '3700', '3940', '01JAN2013:00:00:00', '0', '1', '0', '0', '', '0', '0', '0', '0', '0', '0', '', '1', '1', '0', '1', '0', '0', '', '', '', '', '', '', '', '', '', '', '', '', '', '', '0', '', '', '', '', '', '', '0', '', '', '', '', '', '', '', '', '1', '', '', '2', '0', '', '', '', '', '1', '1', '0', '0', '', '2013']\n"
     ]
    },
    {
     "data": {
      "text/plain": [
       "0    None\n",
       "1    None\n",
       "2    None\n",
       "3    None\n",
       "4    None\n",
       "dtype: object"
      ]
     },
     "execution_count": 39,
     "metadata": {},
     "output_type": "execute_result"
    }
   ],
   "source": [
    "df.head().apply(lambda x: print(x[0].split('|')), axis=1)"
   ]
  },
  {
   "cell_type": "code",
   "execution_count": 35,
   "metadata": {},
   "outputs": [
    {
     "name": "stdout",
     "output_type": "stream",
     "text": [
      "['2019', '1', '1', '1', '1', '', '3', '1', '1', '1', '0421D01', '7DF871BB3D8DEB4AEFCA90BC1E25EA26', '73964798', '', '2', '1', '1992', '9', '30', '27', '1', '76', '', '', '9', '', '', '', '', '', '', '', '', '', '', '', '', '', '2', '3700', '3700', '01JAN2017:00:00:00', '0', '0', '0', '0', '', '0', '0', '1', '0', '0', '0', '', '0', '', '', '', '', '', '', '', '', '', '', '', '', '', '', '', '', '', '', '', '0', '', '', '', '', '', '', '0', '', '', '', '', '', '', '', '', '1', '', '', '2', '0', '', '', '', '', '1', '0', '0', '0', '', '2017']\n"
     ]
    },
    {
     "data": {
      "text/plain": [
       "NU_ANO_CENSO|CO_IES|TP_CATEGORIA_ADMINISTRATIVA|TP_ORGANIZACAO_ACADEMICA|CO_CURSO|CO_CURSO_POLO|TP_TURNO|TP_GRAU_ACADEMICO|TP_MODALIDADE_ENSINO|TP_NIVEL_ACADEMICO|CO_CINE_ROTULO|ID_ALUNO|CO_ALUNO_CURSO|CO_ALUNO_CURSO_ORIGEM|TP_COR_RACA|TP_SEXO|NU_ANO_NASCIMENTO|NU_MES_NASCIMENTO|NU_DIA_NASCIMENTO|NU_IDADE|TP_NACIONALIDADE|CO_PAIS_ORIGEM|CO_UF_NASCIMENTO|CO_MUNICIPIO_NASCIMENTO|IN_DEFICIENCIA|IN_DEFICIENCIA_AUDITIVA|IN_DEFICIENCIA_FISICA|IN_DEFICIENCIA_INTELECTUAL|IN_DEFICIENCIA_MULTIPLA|IN_DEFICIENCIA_SURDEZ|IN_DEFICIENCIA_SURDOCEGUEIRA|IN_DEFICIENCIA_BAIXA_VISAO|IN_DEFICIENCIA_CEGUEIRA|IN_DEFICIENCIA_SUPERDOTACAO|IN_TGD_AUTISMO|IN_TGD_SINDROME_ASPERGER|IN_TGD_SINDROME_RETT|IN_TGD_TRANSTOR_DESINTEGRATIVO|TP_SITUACAO|QT_CARGA_HORARIA_TOTAL|QT_CARGA_HORARIA_INTEG|DT_INGRESSO_CURSO|IN_INGRESSO_VESTIBULAR|IN_INGRESSO_ENEM|IN_INGRESSO_AVALIACAO_SERIADA|IN_INGRESSO_SELECAO_SIMPLIFICA|IN_INGRESSO_OUTRO_TIPO_SELECAO|IN_INGRESSO_VAGA_REMANESC|IN_INGRESSO_VAGA_PROG_ESPECIAL|IN_INGRESSO_TRANSF_EXOFFICIO|IN_INGRESSO_DECISAO_JUDICIAL|IN_INGRESSO_CONVENIO_PECG|IN_INGRESSO_EGRESSO|IN_INGRESSO_OUTRA_FORMA|IN_RESERVA_VAGAS|IN_RESERVA_ETNICO|IN_RESERVA_DEFICIENCIA|IN_RESERVA_ENSINO_PUBLICO|IN_RESERVA_RENDA_FAMILIAR|IN_RESERVA_OUTRA|IN_FINANCIAMENTO_ESTUDANTIL|IN_FIN_REEMB_FIES|IN_FIN_REEMB_ESTADUAL|IN_FIN_REEMB_MUNICIPAL|IN_FIN_REEMB_PROG_IES|IN_FIN_REEMB_ENT_EXTERNA|IN_FIN_REEMB_OUTRA|IN_FIN_NAOREEMB_PROUNI_INTEGR|IN_FIN_NAOREEMB_PROUNI_PARCIAL|IN_FIN_NAOREEMB_ESTADUAL|IN_FIN_NAOREEMB_MUNICIPAL|IN_FIN_NAOREEMB_PROG_IES|IN_FIN_NAOREEMB_ENT_EXTERNA|IN_FIN_NAOREEMB_OUTRA|IN_APOIO_SOCIAL|IN_APOIO_ALIMENTACAO|IN_APOIO_BOLSA_PERMANENCIA|IN_APOIO_BOLSA_TRABALHO|IN_APOIO_MATERIAL_DIDATICO|IN_APOIO_MORADIA|IN_APOIO_TRANSPORTE|IN_ATIVIDADE_EXTRACURRICULAR|IN_COMPLEMENTAR_ESTAGIO|IN_COMPLEMENTAR_EXTENSAO|IN_COMPLEMENTAR_MONITORIA|IN_COMPLEMENTAR_PESQUISA|IN_BOLSA_ESTAGIO|IN_BOLSA_EXTENSAO|IN_BOLSA_MONITORIA|IN_BOLSA_PESQUISA|TP_ESCOLA_CONCLUSAO_ENS_MEDIO|IN_ALUNO_PARFOR|TP_SEMESTRE_CONCLUSAO|TP_SEMESTRE_REFERENCIA|IN_MOBILIDADE_ACADEMICA|TP_MOBILIDADE_ACADEMICA|TP_MOBILIDADE_ACADEMICA_INTERN|CO_IES_DESTINO|CO_PAIS_DESTINO|IN_MATRICULA|IN_CONCLUINTE|IN_INGRESSO_TOTAL|IN_INGRESSO_VAGA_NOVA|IN_INGRESSO_PROCESSO_SELETIVO|NU_ANO_INGRESSO    None\n",
       "dtype: object"
      ]
     },
     "execution_count": 35,
     "metadata": {},
     "output_type": "execute_result"
    }
   ],
   "source": [
    "df.head().apply(lambda x: print(x.to_list()[0].split('|')))"
   ]
  },
  {
   "cell_type": "code",
   "execution_count": 64,
   "metadata": {},
   "outputs": [
    {
     "data": {
      "text/plain": [
       "['2019',\n",
       " '9',\n",
       " '2',\n",
       " '1',\n",
       " '760',\n",
       " '',\n",
       " '4',\n",
       " '1',\n",
       " '1',\n",
       " '1',\n",
       " '0911O01',\n",
       " '3BD725241644C7B459F7218E97703DF8',\n",
       " '16969018',\n",
       " '',\n",
       " '4',\n",
       " '2',\n",
       " '1999',\n",
       " '5',\n",
       " '1',\n",
       " '20',\n",
       " '1',\n",
       " '76',\n",
       " '41',\n",
       " '4122404',\n",
       " '0',\n",
       " '',\n",
       " '',\n",
       " '',\n",
       " '',\n",
       " '',\n",
       " '',\n",
       " '',\n",
       " '',\n",
       " '',\n",
       " '',\n",
       " '',\n",
       " '',\n",
       " '',\n",
       " '2',\n",
       " '4260',\n",
       " '540',\n",
       " '01JAN2019:00:00:00',\n",
       " '1',\n",
       " '0',\n",
       " '0',\n",
       " '0',\n",
       " '',\n",
       " '0',\n",
       " '0',\n",
       " '0',\n",
       " '0',\n",
       " '0',\n",
       " '0',\n",
       " '',\n",
       " '0',\n",
       " '',\n",
       " '',\n",
       " '',\n",
       " '',\n",
       " '',\n",
       " '',\n",
       " '',\n",
       " '',\n",
       " '',\n",
       " '',\n",
       " '',\n",
       " '',\n",
       " '',\n",
       " '',\n",
       " '',\n",
       " '',\n",
       " '',\n",
       " '',\n",
       " '',\n",
       " '0',\n",
       " '',\n",
       " '',\n",
       " '',\n",
       " '',\n",
       " '',\n",
       " '',\n",
       " '0',\n",
       " '',\n",
       " '',\n",
       " '',\n",
       " '',\n",
       " '',\n",
       " '',\n",
       " '',\n",
       " '',\n",
       " '2',\n",
       " '',\n",
       " '',\n",
       " '2',\n",
       " '0',\n",
       " '',\n",
       " '',\n",
       " '',\n",
       " '',\n",
       " '1',\n",
       " '0',\n",
       " '1',\n",
       " '1',\n",
       " '',\n",
       " '2019']"
      ]
     },
     "execution_count": 64,
     "metadata": {},
     "output_type": "execute_result"
    }
   ],
   "source": [
    "df.loc[223133][0].split('|')"
   ]
  },
  {
   "cell_type": "code",
   "execution_count": null,
   "metadata": {},
   "outputs": [],
   "source": [
    "len(col)"
   ]
  }
 ],
 "metadata": {
  "kernelspec": {
   "display_name": "Python 3",
   "language": "python",
   "name": "python3"
  },
  "language_info": {
   "codemirror_mode": {
    "name": "ipython",
    "version": 3
   },
   "file_extension": ".py",
   "mimetype": "text/x-python",
   "name": "python",
   "nbconvert_exporter": "python",
   "pygments_lexer": "ipython3",
   "version": "3.7.4-final"
  }
 },
 "nbformat": 4,
 "nbformat_minor": 2
}